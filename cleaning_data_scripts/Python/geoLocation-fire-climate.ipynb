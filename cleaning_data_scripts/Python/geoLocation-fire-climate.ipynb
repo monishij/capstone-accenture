{
 "cells": [
  {
   "cell_type": "code",
   "execution_count": 1,
   "metadata": {},
   "outputs": [],
   "source": [
    "### download modules\n",
    "#import sys\n",
    "#!{sys.executable} -m pip install reverse_geocoder"
   ]
  },
  {
   "cell_type": "code",
   "execution_count": 2,
   "metadata": {},
   "outputs": [],
   "source": [
    "### imports\n",
    "import pandas as pd\n",
    "import reverse_geocoder as rg "
   ]
  },
  {
   "cell_type": "markdown",
   "metadata": {},
   "source": [
    "### Cleaning FireData to import to PostgreSQL"
   ]
  },
  {
   "cell_type": "code",
   "execution_count": 3,
   "metadata": {},
   "outputs": [],
   "source": [
    "# import raw data >>> (change file path here) <<<\n",
    "fires = pd.read_csv('../../../capstone-accenture/raw_data/raw_fireData.csv')"
   ]
  },
  {
   "cell_type": "code",
   "execution_count": 4,
   "metadata": {},
   "outputs": [
    {
     "name": "stdout",
     "output_type": "stream",
     "text": [
      "Loading formatted geocoded file...\n"
     ]
    }
   ],
   "source": [
    "# iterate and grab necessary info\n",
    "fireCities = []\n",
    "fire_lat_longs =  fires[[\"incident_latitude\", \"incident_longitude\"]]\n",
    "\n",
    "for i, row in fire_lat_longs.iterrows():\n",
    "    result = rg.search((row[\"incident_latitude\"],  row[\"incident_longitude\"])) \n",
    "    fireCities.append(result[0]['name'])"
   ]
  },
  {
   "cell_type": "code",
   "execution_count": 5,
   "metadata": {},
   "outputs": [],
   "source": [
    "# add city column\n",
    "fires[\"city\"] = fireCities"
   ]
  },
  {
   "cell_type": "code",
   "execution_count": 6,
   "metadata": {},
   "outputs": [],
   "source": [
    "# convert data to csv file for SQL use later\n",
    "fires.to_csv(\"newFireData.csv\")"
   ]
  },
  {
   "cell_type": "markdown",
   "metadata": {},
   "source": []
  },
  {
   "cell_type": "markdown",
   "metadata": {},
   "source": [
    "### Cleaning ClimateData to import to PostgreSQL"
   ]
  },
  {
   "cell_type": "code",
   "execution_count": 7,
   "metadata": {},
   "outputs": [],
   "source": [
    "# import raw data >>> (change file path here) <<<\n",
    "climate = pd.read_csv('../../../capstone-accenture/raw_data/raw_climateData.csv')"
   ]
  },
  {
   "cell_type": "code",
   "execution_count": null,
   "metadata": {},
   "outputs": [],
   "source": [
    "# iterate and grab necessary info\n",
    "climateCities = []\n",
    "climateCounties = []\n",
    "climate_lat_longs =  climate[[\"latitude\", \"longitude\"]]\n",
    "\n",
    "for i, row in climate_lat_longs.iterrows():\n",
    "    result = rg.search((row[\"latitude\"],  row[\"longitude\"])) \n",
    "    climateCities.append(result[0]['name'])\n",
    "    climateCounties.append(result[0]['admin2'])\n",
    "    \n",
    "climate[\"city\"] = climateCities\n",
    "climate[\"county\"] = climateCounties"
   ]
  },
  {
   "cell_type": "code",
   "execution_count": null,
   "metadata": {},
   "outputs": [],
   "source": [
    "# convert data to csv file for SQL use later\n",
    "climate.to_csv(\"newClimateData.csv\")"
   ]
  },
  {
   "cell_type": "code",
   "execution_count": null,
   "metadata": {},
   "outputs": [],
   "source": []
  }
 ],
 "metadata": {
  "kernelspec": {
   "display_name": "Python 3",
   "language": "python",
   "name": "python3"
  },
  "language_info": {
   "codemirror_mode": {
    "name": "ipython",
    "version": 3
   },
   "file_extension": ".py",
   "mimetype": "text/x-python",
   "name": "python",
   "nbconvert_exporter": "python",
   "pygments_lexer": "ipython3",
   "version": "3.8.5"
  }
 },
 "nbformat": 4,
 "nbformat_minor": 5
}
