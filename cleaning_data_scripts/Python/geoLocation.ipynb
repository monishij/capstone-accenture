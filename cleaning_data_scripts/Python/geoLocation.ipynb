{
 "cells": [
  {
   "cell_type": "code",
   "execution_count": 52,
   "id": "missing-glucose",
   "metadata": {},
   "outputs": [],
   "source": [
    "import pandas as pd\n",
    "import reverse_geocoder as rg "
   ]
  },
  {
   "cell_type": "code",
   "execution_count": 6,
   "id": "choice-collect",
   "metadata": {},
   "outputs": [],
   "source": [
    "fires = pd.read_csv('/Users/saadiakarim 1/Documents/Stats 170a/Final Project Spring/capstone-accenture/raw_data/fireData.csv')"
   ]
  },
  {
   "cell_type": "code",
   "execution_count": 48,
   "id": "visible-singles",
   "metadata": {},
   "outputs": [],
   "source": [
    "fireCities = []\n",
    "fire_lat_longs =  fires[[\"incident_latitude\", \"incident_longitude\"]]"
   ]
  },
  {
   "cell_type": "code",
   "execution_count": 49,
   "id": "legendary-gibraltar",
   "metadata": {},
   "outputs": [],
   "source": [
    "for i, row in fire_lat_longs.iterrows():\n",
    "    result = rg.search((row[\"incident_latitude\"],  row[\"incident_longitude\"])) \n",
    "    fireCities.append(result[0]['name'])"
   ]
  },
  {
   "cell_type": "code",
   "execution_count": 53,
   "id": "driving-track",
   "metadata": {},
   "outputs": [],
   "source": [
    "fires[\"city\"] = fireCities"
   ]
  },
  {
   "cell_type": "code",
   "execution_count": 71,
   "id": "special-survivor",
   "metadata": {},
   "outputs": [],
   "source": [
    "fires.to_csv(\"newFireData.csv\")"
   ]
  },
  {
   "cell_type": "markdown",
   "id": "parliamentary-poland",
   "metadata": {},
   "source": []
  },
  {
   "cell_type": "code",
   "execution_count": 72,
   "id": "surprised-terrain",
   "metadata": {},
   "outputs": [],
   "source": [
    "climate = pd.read_csv('/Users/saadiakarim 1/Documents/Stats 170a/Final Project Spring/capstone-accenture/raw_data/climateData.csv')"
   ]
  },
  {
   "cell_type": "code",
   "execution_count": 66,
   "id": "numerous-fireplace",
   "metadata": {},
   "outputs": [],
   "source": [
    "climateCities = []\n",
    "climateCounties = []\n",
    "climate_lat_longs =  climate[[\"latitude\", \"longitude\"]]"
   ]
  },
  {
   "cell_type": "code",
   "execution_count": 67,
   "id": "inappropriate-hobby",
   "metadata": {},
   "outputs": [],
   "source": [
    "for i, row in climate_lat_longs.iterrows():\n",
    "    result = rg.search((row[\"latitude\"],  row[\"longitude\"])) \n",
    "    climateCities.append(result[0]['name'])\n",
    "    climateCounties.append(result[0]['admin2'])"
   ]
  },
  {
   "cell_type": "code",
   "execution_count": 68,
   "id": "wooden-picking",
   "metadata": {},
   "outputs": [
    {
     "name": "stdout",
     "output_type": "stream",
     "text": [
      "117216\n",
      "117216\n",
      "117216\n"
     ]
    }
   ],
   "source": [
    "print(len(climateCities))\n",
    "print(len(climateCounties))\n",
    "print(len(climate[\"latitude\"]))"
   ]
  },
  {
   "cell_type": "code",
   "execution_count": 69,
   "id": "built-pittsburgh",
   "metadata": {},
   "outputs": [],
   "source": [
    "climate[\"city\"] = climateCities\n",
    "climate[\"county\"] = climateCounties"
   ]
  },
  {
   "cell_type": "code",
   "execution_count": 70,
   "id": "contained-ethics",
   "metadata": {},
   "outputs": [],
   "source": [
    "climate.to_csv(\"newClimateData.csv\")"
   ]
  },
  {
   "cell_type": "code",
   "execution_count": null,
   "id": "parliamentary-panic",
   "metadata": {},
   "outputs": [],
   "source": []
  }
 ],
 "metadata": {
  "kernelspec": {
   "display_name": "Python 3",
   "language": "python",
   "name": "python3"
  }
 },
 "nbformat": 4,
 "nbformat_minor": 5
}
