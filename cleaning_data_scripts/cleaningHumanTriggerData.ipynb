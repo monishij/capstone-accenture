{
 "cells": [
  {
   "cell_type": "code",
   "execution_count": 1,
   "metadata": {},
   "outputs": [],
   "source": [
    "import pandas as pd"
   ]
  },
  {
   "cell_type": "code",
   "execution_count": 13,
   "metadata": {},
   "outputs": [],
   "source": [
    "df = pd.read_csv('~/Documents/GitHub/capstone-accenture/raw_data/countyPopulationData.csv')"
   ]
  },
  {
   "cell_type": "code",
   "execution_count": 37,
   "metadata": {},
   "outputs": [
    {
     "data": {
      "text/html": [
       "<div>\n",
       "<style scoped>\n",
       "    .dataframe tbody tr th:only-of-type {\n",
       "        vertical-align: middle;\n",
       "    }\n",
       "\n",
       "    .dataframe tbody tr th {\n",
       "        vertical-align: top;\n",
       "    }\n",
       "\n",
       "    .dataframe thead th {\n",
       "        text-align: right;\n",
       "    }\n",
       "</style>\n",
       "<table border=\"1\" class=\"dataframe\">\n",
       "  <thead>\n",
       "    <tr style=\"text-align: right;\">\n",
       "      <th></th>\n",
       "      <th>county</th>\n",
       "      <th>Year</th>\n",
       "      <th>Population</th>\n",
       "    </tr>\n",
       "  </thead>\n",
       "  <tbody>\n",
       "    <tr>\n",
       "      <th>0</th>\n",
       "      <td>California</td>\n",
       "      <td>2013</td>\n",
       "      <td>38260787</td>\n",
       "    </tr>\n",
       "    <tr>\n",
       "      <th>1</th>\n",
       "      <td>Alameda County</td>\n",
       "      <td>2013</td>\n",
       "      <td>1579593</td>\n",
       "    </tr>\n",
       "    <tr>\n",
       "      <th>2</th>\n",
       "      <td>Alpine County</td>\n",
       "      <td>2013</td>\n",
       "      <td>1128</td>\n",
       "    </tr>\n",
       "    <tr>\n",
       "      <th>3</th>\n",
       "      <td>Amador County</td>\n",
       "      <td>2013</td>\n",
       "      <td>36620</td>\n",
       "    </tr>\n",
       "    <tr>\n",
       "      <th>4</th>\n",
       "      <td>Butte County</td>\n",
       "      <td>2013</td>\n",
       "      <td>221641</td>\n",
       "    </tr>\n",
       "    <tr>\n",
       "      <th>...</th>\n",
       "      <td>...</td>\n",
       "      <td>...</td>\n",
       "      <td>...</td>\n",
       "    </tr>\n",
       "    <tr>\n",
       "      <th>408</th>\n",
       "      <td>Tulare County</td>\n",
       "      <td>2019</td>\n",
       "      <td>466195</td>\n",
       "    </tr>\n",
       "    <tr>\n",
       "      <th>409</th>\n",
       "      <td>Tuolumne County</td>\n",
       "      <td>2019</td>\n",
       "      <td>54478</td>\n",
       "    </tr>\n",
       "    <tr>\n",
       "      <th>410</th>\n",
       "      <td>Ventura County</td>\n",
       "      <td>2019</td>\n",
       "      <td>846006</td>\n",
       "    </tr>\n",
       "    <tr>\n",
       "      <th>411</th>\n",
       "      <td>Yolo County</td>\n",
       "      <td>2019</td>\n",
       "      <td>220500</td>\n",
       "    </tr>\n",
       "    <tr>\n",
       "      <th>412</th>\n",
       "      <td>Yuba County</td>\n",
       "      <td>2019</td>\n",
       "      <td>78668</td>\n",
       "    </tr>\n",
       "  </tbody>\n",
       "</table>\n",
       "<p>413 rows × 3 columns</p>\n",
       "</div>"
      ],
      "text/plain": [
       "              county  Year Population\n",
       "0         California  2013   38260787\n",
       "1     Alameda County  2013    1579593\n",
       "2      Alpine County  2013       1128\n",
       "3      Amador County  2013      36620\n",
       "4       Butte County  2013     221641\n",
       "..               ...   ...        ...\n",
       "408    Tulare County  2019     466195\n",
       "409  Tuolumne County  2019      54478\n",
       "410   Ventura County  2019     846006\n",
       "411      Yolo County  2019     220500\n",
       "412      Yuba County  2019      78668\n",
       "\n",
       "[413 rows x 3 columns]"
      ]
     },
     "execution_count": 37,
     "metadata": {},
     "output_type": "execute_result"
    }
   ],
   "source": [
    "df"
   ]
  },
  {
   "cell_type": "code",
   "execution_count": 16,
   "metadata": {},
   "outputs": [],
   "source": [
    "df.columns = ('county', '2013', '2014', '2015', '2016', '2017', '2018', '2019')"
   ]
  },
  {
   "cell_type": "code",
   "execution_count": 18,
   "metadata": {},
   "outputs": [],
   "source": [
    "df = df.drop([59, 60, 61, 62, 63])"
   ]
  },
  {
   "cell_type": "code",
   "execution_count": 21,
   "metadata": {},
   "outputs": [],
   "source": [
    "df.county = df.county.str.replace(\", California\", \"\")\n",
    "df.county = df.county.str.replace(\".\", \"\")"
   ]
  },
  {
   "cell_type": "code",
   "execution_count": 23,
   "metadata": {},
   "outputs": [],
   "source": [
    "df[\"2013\"] = df[\"2013\"].str.replace(\",\", \"\")"
   ]
  },
  {
   "cell_type": "code",
   "execution_count": 24,
   "metadata": {},
   "outputs": [],
   "source": [
    "df[\"2014\"] = df[\"2014\"].str.replace(\",\", \"\")"
   ]
  },
  {
   "cell_type": "code",
   "execution_count": 25,
   "metadata": {},
   "outputs": [],
   "source": [
    "df[\"2015\"] = df[\"2015\"].str.replace(\",\", \"\")"
   ]
  },
  {
   "cell_type": "code",
   "execution_count": 26,
   "metadata": {},
   "outputs": [],
   "source": [
    "df[\"2016\"] = df[\"2016\"].str.replace(\",\", \"\")"
   ]
  },
  {
   "cell_type": "code",
   "execution_count": 27,
   "metadata": {},
   "outputs": [],
   "source": [
    "df[\"2017\"] = df[\"2017\"].str.replace(\",\", \"\")"
   ]
  },
  {
   "cell_type": "code",
   "execution_count": 28,
   "metadata": {},
   "outputs": [],
   "source": [
    "df[\"2018\"] = df[\"2018\"].str.replace(\",\", \"\")\n",
    "df[\"2019\"] = df[\"2019\"].str.replace(\",\", \"\")"
   ]
  },
  {
   "cell_type": "code",
   "execution_count": 35,
   "metadata": {},
   "outputs": [],
   "source": [
    "df = df.melt(id_vars=[\"county\"], \n",
    "        var_name=\"Year\", \n",
    "        value_name=\"Population\")"
   ]
  },
  {
   "cell_type": "code",
   "execution_count": 36,
   "metadata": {},
   "outputs": [],
   "source": [
    "df.to_csv(\"~/Documents/Github/capstone-accenture/clean_data/countyPopulationData.csv\", index=False)"
   ]
  },
  {
   "cell_type": "code",
   "execution_count": 14,
   "metadata": {},
   "outputs": [],
   "source": [
    "housing = pd.read_csv('~/Downloads/countyHousingDensity.csv')"
   ]
  },
  {
   "cell_type": "code",
   "execution_count": 15,
   "metadata": {
    "scrolled": true
   },
   "outputs": [
    {
     "data": {
      "text/html": [
       "<div>\n",
       "<style scoped>\n",
       "    .dataframe tbody tr th:only-of-type {\n",
       "        vertical-align: middle;\n",
       "    }\n",
       "\n",
       "    .dataframe tbody tr th {\n",
       "        vertical-align: top;\n",
       "    }\n",
       "\n",
       "    .dataframe thead th {\n",
       "        text-align: right;\n",
       "    }\n",
       "</style>\n",
       "<table border=\"1\" class=\"dataframe\">\n",
       "  <thead>\n",
       "    <tr style=\"text-align: right;\">\n",
       "      <th></th>\n",
       "      <th>Unnamed: 0</th>\n",
       "      <th>2013</th>\n",
       "      <th>2014</th>\n",
       "      <th>2015</th>\n",
       "      <th>2016</th>\n",
       "      <th>2017</th>\n",
       "      <th>2018</th>\n",
       "      <th>2019</th>\n",
       "    </tr>\n",
       "  </thead>\n",
       "  <tbody>\n",
       "    <tr>\n",
       "      <th>0</th>\n",
       "      <td>California</td>\n",
       "      <td>13,827,794</td>\n",
       "      <td>13,906,691</td>\n",
       "      <td>13,985,614</td>\n",
       "      <td>14,075,264</td>\n",
       "      <td>14,172,348</td>\n",
       "      <td>14,275,353</td>\n",
       "      <td>14,366,336</td>\n",
       "    </tr>\n",
       "    <tr>\n",
       "      <th>1</th>\n",
       "      <td>.Alameda County, California</td>\n",
       "      <td>589,352</td>\n",
       "      <td>592,396</td>\n",
       "      <td>595,760</td>\n",
       "      <td>600,467</td>\n",
       "      <td>605,974</td>\n",
       "      <td>615,030</td>\n",
       "      <td>622,922</td>\n",
       "    </tr>\n",
       "    <tr>\n",
       "      <th>2</th>\n",
       "      <td>.Alpine County, California</td>\n",
       "      <td>1,765</td>\n",
       "      <td>1,764</td>\n",
       "      <td>1,766</td>\n",
       "      <td>1,769</td>\n",
       "      <td>1,770</td>\n",
       "      <td>1,778</td>\n",
       "      <td>1,782</td>\n",
       "    </tr>\n",
       "    <tr>\n",
       "      <th>3</th>\n",
       "      <td>.Amador County, California</td>\n",
       "      <td>18,241</td>\n",
       "      <td>18,239</td>\n",
       "      <td>18,249</td>\n",
       "      <td>18,274</td>\n",
       "      <td>18,318</td>\n",
       "      <td>18,452</td>\n",
       "      <td>18,625</td>\n",
       "    </tr>\n",
       "    <tr>\n",
       "      <th>4</th>\n",
       "      <td>.Butte County, California</td>\n",
       "      <td>96,989</td>\n",
       "      <td>97,517</td>\n",
       "      <td>98,073</td>\n",
       "      <td>98,692</td>\n",
       "      <td>99,438</td>\n",
       "      <td>100,074</td>\n",
       "      <td>86,209</td>\n",
       "    </tr>\n",
       "    <tr>\n",
       "      <th>...</th>\n",
       "      <td>...</td>\n",
       "      <td>...</td>\n",
       "      <td>...</td>\n",
       "      <td>...</td>\n",
       "      <td>...</td>\n",
       "      <td>...</td>\n",
       "      <td>...</td>\n",
       "      <td>...</td>\n",
       "    </tr>\n",
       "    <tr>\n",
       "      <th>59</th>\n",
       "      <td>Note: The estimates are based on the 2010 Cens...</td>\n",
       "      <td>NaN</td>\n",
       "      <td>NaN</td>\n",
       "      <td>NaN</td>\n",
       "      <td>NaN</td>\n",
       "      <td>NaN</td>\n",
       "      <td>NaN</td>\n",
       "      <td>NaN</td>\n",
       "    </tr>\n",
       "    <tr>\n",
       "      <th>60</th>\n",
       "      <td>Suggested Citation:</td>\n",
       "      <td>NaN</td>\n",
       "      <td>NaN</td>\n",
       "      <td>NaN</td>\n",
       "      <td>NaN</td>\n",
       "      <td>NaN</td>\n",
       "      <td>NaN</td>\n",
       "      <td>NaN</td>\n",
       "    </tr>\n",
       "    <tr>\n",
       "      <th>61</th>\n",
       "      <td>Annual Estimates of Housing Units for Counties...</td>\n",
       "      <td>NaN</td>\n",
       "      <td>NaN</td>\n",
       "      <td>NaN</td>\n",
       "      <td>NaN</td>\n",
       "      <td>NaN</td>\n",
       "      <td>NaN</td>\n",
       "      <td>NaN</td>\n",
       "    </tr>\n",
       "    <tr>\n",
       "      <th>62</th>\n",
       "      <td>Source: U.S. Census Bureau, Population Division</td>\n",
       "      <td>NaN</td>\n",
       "      <td>NaN</td>\n",
       "      <td>NaN</td>\n",
       "      <td>NaN</td>\n",
       "      <td>NaN</td>\n",
       "      <td>NaN</td>\n",
       "      <td>NaN</td>\n",
       "    </tr>\n",
       "    <tr>\n",
       "      <th>63</th>\n",
       "      <td>Release Date: May 2020</td>\n",
       "      <td>NaN</td>\n",
       "      <td>NaN</td>\n",
       "      <td>NaN</td>\n",
       "      <td>NaN</td>\n",
       "      <td>NaN</td>\n",
       "      <td>NaN</td>\n",
       "      <td>NaN</td>\n",
       "    </tr>\n",
       "  </tbody>\n",
       "</table>\n",
       "<p>64 rows × 8 columns</p>\n",
       "</div>"
      ],
      "text/plain": [
       "                                           Unnamed: 0        2013        2014  \\\n",
       "0                                          California  13,827,794  13,906,691   \n",
       "1                         .Alameda County, California     589,352     592,396   \n",
       "2                          .Alpine County, California       1,765       1,764   \n",
       "3                          .Amador County, California      18,241      18,239   \n",
       "4                           .Butte County, California      96,989      97,517   \n",
       "..                                                ...         ...         ...   \n",
       "59  Note: The estimates are based on the 2010 Cens...         NaN         NaN   \n",
       "60                                Suggested Citation:         NaN         NaN   \n",
       "61  Annual Estimates of Housing Units for Counties...         NaN         NaN   \n",
       "62    Source: U.S. Census Bureau, Population Division         NaN         NaN   \n",
       "63                             Release Date: May 2020         NaN         NaN   \n",
       "\n",
       "          2015        2016        2017        2018        2019  \n",
       "0   13,985,614  14,075,264  14,172,348  14,275,353  14,366,336  \n",
       "1      595,760     600,467     605,974     615,030     622,922  \n",
       "2        1,766       1,769       1,770       1,778       1,782  \n",
       "3       18,249      18,274      18,318      18,452      18,625  \n",
       "4       98,073      98,692      99,438     100,074      86,209  \n",
       "..         ...         ...         ...         ...         ...  \n",
       "59         NaN         NaN         NaN         NaN         NaN  \n",
       "60         NaN         NaN         NaN         NaN         NaN  \n",
       "61         NaN         NaN         NaN         NaN         NaN  \n",
       "62         NaN         NaN         NaN         NaN         NaN  \n",
       "63         NaN         NaN         NaN         NaN         NaN  \n",
       "\n",
       "[64 rows x 8 columns]"
      ]
     },
     "execution_count": 15,
     "metadata": {},
     "output_type": "execute_result"
    }
   ],
   "source": [
    "housing"
   ]
  },
  {
   "cell_type": "code",
   "execution_count": 16,
   "metadata": {},
   "outputs": [],
   "source": [
    "housing.columns = ('city', '2013', '2014', '2015', '2016', '2017', '2018', '2019')"
   ]
  },
  {
   "cell_type": "code",
   "execution_count": 17,
   "metadata": {},
   "outputs": [],
   "source": [
    "housing = housing.drop([59,60,61,62,63])"
   ]
  },
  {
   "cell_type": "code",
   "execution_count": 18,
   "metadata": {},
   "outputs": [],
   "source": [
    "housing.city = housing.city.str.replace(\", California\", \"\")"
   ]
  },
  {
   "cell_type": "code",
   "execution_count": 19,
   "metadata": {},
   "outputs": [],
   "source": [
    "housing[\"2013\"] = housing[\"2013\"].str.replace(\",\", \"\")\n",
    "housing[\"2014\"] = housing[\"2014\"].str.replace(\",\", \"\")\n",
    "housing[\"2015\"] = housing[\"2015\"].str.replace(\",\", \"\")\n",
    "housing[\"2016\"] = housing[\"2016\"].str.replace(\",\", \"\")\n",
    "housing[\"2017\"] = housing[\"2017\"].str.replace(\",\", \"\")\n",
    "housing[\"2018\"] = housing[\"2018\"].str.replace(\",\", \"\")\n",
    "housing[\"2019\"] = housing[\"2019\"].str.replace(\",\", \"\")"
   ]
  },
  {
   "cell_type": "code",
   "execution_count": 20,
   "metadata": {},
   "outputs": [],
   "source": [
    "housing.to_csv(\"~/Desktop/capstone-project/capstone-accenture/countyHousingDensity.csv\", index=False)"
   ]
  }
 ],
 "metadata": {
  "kernelspec": {
   "display_name": "Python 3",
   "language": "python",
   "name": "python3"
  },
  "language_info": {
   "codemirror_mode": {
    "name": "ipython",
    "version": 3
   },
   "file_extension": ".py",
   "mimetype": "text/x-python",
   "name": "python",
   "nbconvert_exporter": "python",
   "pygments_lexer": "ipython3",
   "version": "3.8.5"
  }
 },
 "nbformat": 4,
 "nbformat_minor": 4
}
